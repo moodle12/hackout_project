{
 "cells": [
  {
   "cell_type": "code",
   "execution_count": 1,
   "id": "706a108b",
   "metadata": {},
   "outputs": [],
   "source": [
    "class TeamMember:\n",
    "    def __init__(self, name, skills):\n",
    "        self.name = name\n",
    "        self.skills = skills\n",
    "    \n",
    "class Task:\n",
    "    def __init__(self, task_name, required_skills):\n",
    "        self.task_name = task_name\n",
    "        self.required_skills = required_skills\n",
    "\n",
    "class RecommendationSystem:\n",
    "    def __init__(self, team_members, tasks):\n",
    "        self.team_members = team_members\n",
    "        self.tasks = tasks\n",
    "    \n",
    "    def recommend_tasks(self, team_member):\n",
    "        recommended_tasks = []\n",
    "        \n",
    "        for task in self.tasks:\n",
    "            common_skills = set(team_member.skills) & set(task.required_skills)\n",
    "            if common_skills:\n",
    "                recommended_tasks.append(task.task_name)\n",
    "        \n",
    "        return recommended_tasks"
   ]
  },
  {
   "cell_type": "code",
   "execution_count": 2,
   "id": "bde75695",
   "metadata": {},
   "outputs": [],
   "source": [
    "# Creating team members\n",
    "member1 = TeamMember(\"Alice\", [\"programming\", \"design\"])\n",
    "member2 = TeamMember(\"Bob\", [\"programming\", \"testing\"])\n",
    "member3 = TeamMember(\"Carol\", [\"design\", \"management\"])"
   ]
  },
  {
   "cell_type": "code",
   "execution_count": 3,
   "id": "aa5694c2",
   "metadata": {},
   "outputs": [],
   "source": [
    "# Creating tasks\n",
    "task1 = Task(\"Frontend Development\", [\"programming\", \"design\"])\n",
    "task2 = Task(\"Testing Automation\", [\"programming\", \"testing\"])\n",
    "task3 = Task(\"UI Design\", [\"design\"])\n",
    "task4 = Task(\"Project Management\", [\"management\"])"
   ]
  },
  {
   "cell_type": "code",
   "execution_count": 4,
   "id": "71aa9cb4",
   "metadata": {},
   "outputs": [],
   "source": [
    "# Creating a recommendation system\n",
    "recommendation_system = RecommendationSystem([member1, member2, member3], [task1, task2, task3, task4])"
   ]
  },
  {
   "cell_type": "code",
   "execution_count": 5,
   "id": "0ec56136",
   "metadata": {},
   "outputs": [],
   "source": [
    "# Recommending tasks for a team member\n",
    "team_member = member1\n",
    "recommended_tasks = recommendation_system.recommend_tasks(team_member)"
   ]
  },
  {
   "cell_type": "code",
   "execution_count": 6,
   "id": "af3a4102",
   "metadata": {},
   "outputs": [
    {
     "name": "stdout",
     "output_type": "stream",
     "text": [
      "Recommended member for ['Frontend Development', 'Testing Automation', 'UI Design']: Alice\n"
     ]
    }
   ],
   "source": [
    "print(f\"Recommended member for {recommended_tasks}: {team_member.name}\")"
   ]
  }
 ],
 "metadata": {
  "kernelspec": {
   "display_name": "Python 3 (ipykernel)",
   "language": "python",
   "name": "python3"
  },
  "language_info": {
   "codemirror_mode": {
    "name": "ipython",
    "version": 3
   },
   "file_extension": ".py",
   "mimetype": "text/x-python",
   "name": "python",
   "nbconvert_exporter": "python",
   "pygments_lexer": "ipython3",
   "version": "3.9.10"
  }
 },
 "nbformat": 4,
 "nbformat_minor": 5
}
